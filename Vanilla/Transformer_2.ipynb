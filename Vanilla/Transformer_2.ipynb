{
  "cells": [
    {
      "cell_type": "markdown",
      "metadata": {
        "id": "view-in-github",
        "colab_type": "text"
      },
      "source": [
        "<a href=\"https://colab.research.google.com/github/jungeun202/Transformer/blob/main/Transformer_2.ipynb\" target=\"_parent\"><img src=\"https://colab.research.google.com/assets/colab-badge.svg\" alt=\"Open In Colab\"/></a>"
      ]
    },
    {
      "cell_type": "markdown",
      "source": [
        "Transformer model with smaller dataset"
      ],
      "metadata": {
        "id": "g4RjRKflrL8x"
      }
    },
    {
      "cell_type": "code",
      "execution_count": 20,
      "metadata": {
        "id": "6-gsXWz3uDfX",
        "colab": {
          "base_uri": "https://localhost:8080/"
        },
        "outputId": "78e2d3a0-a1ce-40cf-8887-ceeeb50d20c4"
      },
      "outputs": [
        {
          "output_type": "stream",
          "name": "stdout",
          "text": [
            "Drive already mounted at /content/drive; to attempt to forcibly remount, call drive.mount(\"/content/drive\", force_remount=True).\n"
          ]
        }
      ],
      "source": [
        "import os\n",
        "import copy\n",
        "import math\n",
        "import time\n",
        "\n",
        "import torch\n",
        "import torch.nn as nn\n",
        "import numpy as np\n",
        "import torch.nn.functional as F\n",
        "from torch.autograd import Variable\n",
        "from torch.nn.utils import clip_grad_norm_\n",
        "\n",
        "\n",
        "# Device configuration\n",
        "device = torch.device('cuda' if torch.cuda.is_available() else 'cpu')\n",
        "\n",
        "# Mount Drive\n",
        "from google.colab import drive\n",
        "drive.mount('/content/drive')"
      ]
    },
    {
      "cell_type": "markdown",
      "metadata": {
        "id": "wRoj6qsEuo7a"
      },
      "source": [
        "#- Embedding\n",
        "\n",
        "If we have,\n",
        " \\begin{pmatrix}\n",
        "  \\text{I} & \\text{love} & \\text{banana} \\\\\n",
        "  \\text{I} & \\text{love} & \\text{apple} \\\\\n",
        "  \\text{I} & \\text{hate} & \\text{banana}\n",
        " \\end{pmatrix}\n",
        "\n",
        "\n",
        "\n",
        "\n",
        "We can set vocab:\n",
        "\n",
        "0. I\n",
        "1. love\n",
        "2. banana\n",
        "3. apple\n",
        "4. hate\n",
        "\n",
        "Then input matrix(one-hot vector) will be:\n",
        "\n",
        "\\begin{pmatrix}\n",
        "  [1,0,0,0,0], [0,1,0,0,0], [0,0,1,0,0] \\\\\n",
        "  [1,0,0,0,0], [0,0,1,0,0], [0,0,0,1,0] \\\\\n",
        "  [1,0,0,0,0], [0,0,0,0,1], [0,0,1,0,0]\n",
        " \\end{pmatrix}\n",
        "\n",
        "\n",
        "Then input matrix pass Embedding layer with weight $W$ and this weight matrix's shape will be [(5)vocab_size, (d)embedding dimension]."
      ]
    },
    {
      "cell_type": "code",
      "execution_count": 21,
      "metadata": {
        "id": "Hg9C8UuxsBfH"
      },
      "outputs": [],
      "source": [
        "class Embeddings(nn.Module):\n",
        "  def __init__(self, vocab_num, d_model):\n",
        "    super(Embeddings,self).__init__()\n",
        "    self.emb = nn.Embedding(vocab_num,d_model)\n",
        "    self.d_model = d_model\n",
        "  def forward(self, x):\n",
        "\n",
        "    return self.emb(x) * math.sqrt(self.d_model)"
      ]
    },
    {
      "cell_type": "markdown",
      "metadata": {
        "id": "ssUQ51br-Ncn"
      },
      "source": [
        "#- Encoding\n",
        "\n",
        "![스크린샷 2024-05-30 오전 10.59.10.png](data:image/png;base64,iVBORw0KGgoAAAANSUhEUgAAAg4AAAByCAYAAAA7xFmqAAABWWlDQ1BJQ0MgUHJvZmlsZQAAKJF1kDFIAmEUx/+WIliDUUsQJbQYWMRpNAnZQVI4HGZUbuennYFeH+dFNjvWWkNTNDQ0NQi3tgRFUwQVQXtDW3BLydf7tFKLHjzejz9/Hu/9gR6vznnJC6Bs2lY6OR9aW8+G/C/wYRQBjGFYZxWe0LQUWfA9u8u9h0fOu0m5C87s4OXB3tnCXP0ke/M8/tffVYF8ocJoflBHGLdswBMm1nZsLrlKPGTRUcT7ko0WH0vOtbje9GTSKvEVcZAV9Tzxo9yZ69CNDi6XttnXDfL6/oK5six16hGkoCIKBUnMoIrMP95Y06tiCxy7sLAJA0XYCCFBCkcJBeJFmGCYQoRYwTR1TGb8O7u2VhNA/FYIcdTWluif81eKq9bWwpTPAP1zHeS6pf8k6nG9lY2o0uI+B/AdCvG2CvgngMaDEO+OEI1ToPcJuHA/AWe9ZgvvVJHVAAAAVmVYSWZNTQAqAAAACAABh2kABAAAAAEAAAAaAAAAAAADkoYABwAAABIAAABEoAIABAAAAAEAAAIOoAMABAAAAAEAAAByAAAAAEFTQ0lJAAAAU2NyZWVuc2hvdGVIpvYAAAHWaVRYdFhNTDpjb20uYWRvYmUueG1wAAAAAAA8eDp4bXBtZXRhIHhtbG5zOng9ImFkb2JlOm5zOm1ldGEvIiB4OnhtcHRrPSJYTVAgQ29yZSA2LjAuMCI+CiAgIDxyZGY6UkRGIHhtbG5zOnJkZj0iaHR0cDovL3d3dy53My5vcmcvMTk5OS8wMi8yMi1yZGYtc3ludGF4LW5zIyI+CiAgICAgIDxyZGY6RGVzY3JpcHRpb24gcmRmOmFib3V0PSIiCiAgICAgICAgICAgIHhtbG5zOmV4aWY9Imh0dHA6Ly9ucy5hZG9iZS5jb20vZXhpZi8xLjAvIj4KICAgICAgICAgPGV4aWY6UGl4ZWxZRGltZW5zaW9uPjExNDwvZXhpZjpQaXhlbFlEaW1lbnNpb24+CiAgICAgICAgIDxleGlmOlBpeGVsWERpbWVuc2lvbj41MjY8L2V4aWY6UGl4ZWxYRGltZW5zaW9uPgogICAgICAgICA8ZXhpZjpVc2VyQ29tbWVudD5TY3JlZW5zaG90PC9leGlmOlVzZXJDb21tZW50PgogICAgICA8L3JkZjpEZXNjcmlwdGlvbj4KICAgPC9yZGY6UkRGPgo8L3g6eG1wbWV0YT4Kq5eLGQAAQABJREFUeAHt3QecZFWxB+BLDgqoBAH1sYCi+EygKEFgQTCAYsAs6oKICiLmp5hQDDwRE5gQiYKoqCAqmNecBRUTKKwYnj5JZn2Kvv4O1nDm7u2enp2e3Z7Zqv31dvftE+vUqfpX1bl3VvlXj5qk5EByIDmQHEgOJAeSA0NwYNUhymSR5EByIDmQHEgOJAeSA4UDCRxSEJIDyYHkQHIgOZAcGJoDCRyGZlUWTA4kB5IDyYHkQHIggUPKQHIgOZAcSA4kB5IDQ3MggcPQrMqCyYHkQHIgOZAcSA4kcEgZSA4kB5IDyYHkQHJgaA4kcBiaVVkwOZAcSA4kB5IDyYEEDikDyYHkQHIgOZAcSA4MzYEEDkOzKgsmB5IDyYHkQHIgOZDAIWUgOZAcSA4kB5IDyYGhOZDAYWhWZcHkQHIgOZAcSA4kBxI4pAwkB5IDyYHkQHIgOTA0BxI4DM2qLJgcSA4kB5IDK4ID//znP5u//OUvzfXXX78ius8+WxxI4NBiSH5NDiQHkgPJgfHiwC9+8YvmE5/4RPOb3/xmqIEBGH//+9+bv/3tbwk2huLY9AqtPr3iWTo5kBxIDiQHkgM3cuBf//pX8+c//7m59tpry/uaa67ZbLjhhs1NbnKTZtVVu31TEYRrrrmm+etf/9psttlmzWqrrXZjg61PQMAFF1zQfPSjH20233zzUn6VVVZplbrx6x//+Mfms5/9bPP73/++Ue7Od75zed1YIj/NlAMJHGbKwayfHEgOJAdWUg4w6pdddlnz1a9+tfnVr37V/O53v2v+7//+r7nNbW7T3POe92zucY97NGuvvfZS3AEaTjrppAIcnvrUpzabbrrpUmXiwm9/+9vm61//evMf//EfzSabbFLAQPzWfg8Qc+GFFzZeAMmRRx6ZwKHNqBl+74aDM2w0qycHkgPJgeTA/OfAj3/84+aMM85ovvGNbzQ3velNmy233LJM+sQTT2xe9rKXNZ/5zGeaf/zjH5MYwbiLBogK/OAHPyhnFyYVaH256KKLGqmKHXfcsQCH1s+TvoowiHYccsghzQYbbNCsu+66zR3veMdJZfLLzDmQEYeZ8zBbSA4kB5IDKx0HRBY+9alPNV/+8pebpz/96c0DH/jARpri6quvboCD008/vXnTm97U3Ote9yrGPBjEuG+88cbN4YcfXqIRt771reOnpd7/9Kc/NV/60pcKCLjTne7UrLPOOkuVaV/QvpeoxrbbbttsvfXW7SL5fYYcyIjDDBmY1ZMDKysH5Kd/+tOfNkLJ84kYvV//+tfN5ZdfPqU3PJ/mPd25OEvwk5/8pPDJoUVAgsHeaKONmn333be52c1uViIRgERN0htrrbVW84AHPKC5z33u06yxxhr1z5M+S4P86Ec/arbbbruS/pj0Y+uLw5DG4F0kg3ze9ra3bdZff/1WyfH5im/m6MzHXKKMOMyl1cqxJgfGhAMOwznlzht83OMeVzzIMRnajIfBIDqIt2TJkuaAAw5obn/728+4zfnYgOgCw8yrlxaoD0JKEay++urFiDOKwBhQAWR+5CMfKVEJKYS99tqrRCm6+CPFIQUCAAAOgEgXWS9nLL7//e8X4CDC4DtActe73nUgMOlqb3leI2POejz2sY9tFi5cOPD8xvIc11R9JXAYwCH3DX/lK18pJ4UHFCs/2UQ3v/nNy6lfB3gGoej//d//bS699NJyq5DNFGRz9aMo593J4q222mpgH/3ayevzlwMUbXhzszlLXp38NIXn8JtT8fOJrrzyyuaTn/xkMWix7/rNj45gIAft97quNcI/e93BPXqjNrh12fpzeNLq6Uu9qcamPu/bi/GeTj3l41bGGGf7zgd3TTz4wQ8uqYgttthiIo1gjBdffHFz3XXXFT0FVBgrXp1wwgnl7gtgAI+BgZ133rme6sRnetL5Bm3f7na367zzgsf+1re+tfn2t7/d3Pve9y4A5r3vfW/pX6Th7ne/+0R7s/HBXPGqzZt2X8qg9lo7REp+Xv3qV5e0jXMcw6xru/3l/T2BwwCOO8DzwQ9+sNw7LHT5hz/8oSzqLW5xi+JhWWCCY1PzwAiH3B3keP/737+Ru+sSgu9973vNWWedVdq1udQneDaYzVhTbGDt28gEb5999mmcRHYIKCk5gANywaecckpz1VVXNU94whOKwp4NzpBHYWAG4Ja3vGVz4IEHlvfZ6GtFtAl4CY3/7Gc/ax7ykIcUkN41DgAAH+TxGSwGtGuvR117XEga4PLuu/3OsO26666Fh1317fmvfe1r5ZAhbz10zG677dbssssuE8Y6+ol39X74wx82ixcvbq644orSHyPtvIG6nJyu/rQfwIkHrx06yS2N9Jo7G6Ked0bdqybpKxEbvx988MGlL7+bu7m8+MUvbs4777zCZ+mgLuBAr373u98t67D//vs3t7rVreouymfggxy++93vbg499NDm8Y9/fOGHOzvcUeGujgULFixVbxQXyIkDmwCStMvee+/dCR6MxTqYp/Fw+GrwwAk84ogjmsMOO6w5+uijy3yUGXdK4DBghSBWYVhI+bjjjmu++MUvlnzZox71qHLC18Yg4ITIPcyf//znmw9/+MPl1qGf//znzZOe9KSlNpXuhD4JuTrPe97zilDZyMcff3zJD9ZDCmBC8ICYb33rWyVsVwtfXT4/r5wcoChf97rXFUW/zTbbzBpwAFAoawDl5S9/eTEk84njgDyDxaO/y13uMgnIO2xn3gzGN7/5zWLMRSSF5ffbb78Jg9rmB/1BN4jQ8P4DKNjL73jHO4oxZWDphTDK2lBPnXPOOacYTg4D4qkzMuFAACA1WSPycOaZZxZjpj/6xVgdVhTGZ6jajg1dw3N/7WtfWw4W7rHHHuVgIQDBODsESaftsMMOk8ZZ9y0C8Ja3vKWcfXFg8hGPeEQxrNrmMDnXAGgYC/0qktBF5oDHAVq6bunEB+OSLlm0aFFx2vDXrZ2iK/i53nrrdTU/42t0vvMd73znO5s73OEO5axGV9SBPH384x8vtsPZD0CmrbvtV2DKHPDumGOOGTqCNeOJLGMDCRwGMM4J3p122qko49e85jWlpGiDfBTkXRMPBCq3Qd71rnc1wmUEAqJshzFtWC8eSyiK//zP/2we+tCHdnoQ2hT90DcE67andmSiHkt+Xvk4wDMUEdt4402KcpoNDpBDp+jdYieqIe8c8jsb/a2INuWchccZNLn7en6ihM51MGqMBG8Tz+39fsSD53Ey2PbwM57xjJLXt3/plre//e3Nxz72sRKm5jXTFwivzz333OJM0CMveMELJs5aOBsAJJ588snFMLr1ULgb6c8zD972trcVA6VNkQK6TLTh9a9/fXFAGFSGvQYdDjG+4hWvKGcFgML73ve+BXCIbAAeQAwS6ey6U0FU9s1vfnMBBYAJ0FA/d0HkAMgCCBhdkY9+t0r6HWBxJ0VXX+SdjhWFef7znz8RfWXQv/Od75S5i+YEX8rAR/ifdgEU8mFdrVcXiUCLzImOGHMXARKiVqIWH/rQh0q02udxpgQOQ6wO1GjzExJhpNjcdVWCBEmHl8IrueSSSwrC7pdSoHhEHQiOTd2FqvWhXxscuAgUPVsbop5Tfp47HKDkeaZAJTmZDaL8eETk9DGPecxSgHg2+lyebUofSFP8z//8T/Eg2/uccgcoGH2eLRDQvmOgPV5RCmF5xowh5XGHF0yXPPrRjy6/vf/97y9AgqHhaNAfgIH2efmckgAxdIwIhSgG4ymi4HfkIUwOH3q+AkAhahDgwNjVY7hPO+20AmCcUQlP2fMYpBMcWJSmIUuIk+MuCYCKl6//Jz/5ySUqUwr0/gMaREzN85nPfGYBHVIjIrAxBpEBoAs/6DzGkSyJrHiP+eFtgLK73e1unYci45yYtTCHuq6ISpxvYKy1p7yX8nikfzyj2wEU53TMy5yBD3IgpRTlFvQiBfqIVI55qhv94sNf/vyX5tLLLi3n10QXHMzk7AFdIliDyJpbr/PPP79EMXbfffcp6wxqb7Z/S+AwBIdtGJ4+IeEl9DPahIqQ8kC8bAjf+1EcvCScNmsthOoEio3rNhcETxHEtX5t5/WViwMUFWVDlmaLeLLC+A960IM6vcDZ6nd5tctIM1iMjmhKW9kzNDxghpYRsh8Hkf37y1/+sjwuWR6cYQrQoJ49zJtmUPH2C1/4QjGCPFRRHaF960rn1Pud/hGFWNAzZg5ZM+bGhXz/3Oc+V/oRQm/3x/HYsveQJlEOj3FWjzHlNYuo0FsLexGKAA3a1LcxMYRAiXMKgIT+EdAgfQXsPOtZzyrj1SanSCoGLwO8SGV8+tOfLs4XeTUGBlq9mKMoAsMMuAHBXTJNtwIF+OP8g7r47XyGF/4YgzMo5gYIAAiuKyeVrH0v45aCEtUBDoE4oAwYp/vf+MY3Ni996UvL/iIfUjnSREAhgCbyIPIEdCkPMJ199tnFGTzooIMKj4b5j3xZayksKSMHJceVZk/LjOuMl2FczjYQVIIoMtCPCI9Qp3dKhfegThfx3qQqAAuotO0lAirvec97ivKI+jaKTaR8UnKgzYEuBdsuM5PvvFteOU+xH3ieSfsruq5DhBS2FAWj2yaAwbzDwLV/b39nhBklxlyIHuhvU1zXNoPMaPJ43eZKj4hW1kY86gMiAAA9wVjx5PXnUKfzUAADT7ctE/QSQ+c6cOLQNaK3gELtBiCIvrxLdcTZAcaSsUdAgzSMyALZMG7pile96lUlhQAoRKqWwWYU3T7JQOMjAEOfxTiVYeDxTLShnRIunfb+o1sjkqsOMhdRD5EAgIy+BFIYZGkL/Nlzzz1Lika7xuEQu4iOsdDHosTOTWy//fYFQInQaF/qxnoce+yxJTrhTAtnLw4y4ok0g3ngu76cbdDmsIT30jcAl8OlMa9h6y/PchlxmILbDLx7iUUTbMZ+wMEiO01s4/gM2RK+rk2vSxvDptOuPF9sAr+pL5wGLXtsaxDUT9Bt7GGVV9TN97nDATJHkVM6DAOFTfl5rw02OaGwGBxGSci6LW+UpzK8V6k03h8wC7AKyUvBUe7a5lFSyKHEa45RhDwqyk1ouB8FIObhMWy8bP1R0sYgd81QaKNfX+bFS2Sc7BPjYcwp6dqDbo/BnHiblD8DrH3zFWrvmlNdn2OAF5Q2XvNkZ0raxHsGFUDoGrv1tGaiG4AL48TwAQDhVHTtdfXoDOsrqoFf2lDPNW3qs03q8Yi9WwvrhaQvjNNvXm1i/GOc5EWfxuo816mnnlpSKgALIBBEZpyPqJ0nY9Y3b100gv4TwQoCgEQbyBn9GaAjfo93EQxnzV75yleW0L47Fjhaokbky9xEUPDcYU77CPihQ0V4pCYANO/68Jv5ADb0sr0i8qQtUQBzBCr9TifjkfLGYZ70NZBIRvERAMAv+8o+G4assz1sXNIt2u03/2Ham80yCRym4K5NbPNTZnKEtYGvqwpdCrtRjoTlkY98ZBGCrk2vHnQvPGbjEOw6LEogP/CBDxQEDYAEaZdCi5xkXM/3+cMBip9CpYCtNcVGkZE/d+DIF5MV3ylGYVRKTqibkqbgKF3EgDjMyFuirMmVA2rOJ2ifh0S5+Y2BpvQcjmNs2zIGCDDGPLV+RpXClKN1Xz2jyQN0BxLF64S/fUQRM5DeHfBjHOq+jNkBxDe84Q1F4cbBOECKQRfS7jrVb2zOX8ifU+ZAC77Zly95yUumvF1SOcYTAGOEpgIaw0gcw8/I2uM8/dqARn39WC/veAZgWScv9RioLh2ivLVTRh2G0XcG2TV9MYZt0hZAoT7QAHCQJYALkQXttCnGaa3U06d+OD08dkaui8hSABh9c7zIoyguYOc8RK1TgY+I+vQ7OKkf4/FwLjqRvDjfs8cee/Yee71vWUd3oJmL9IP5BA+9r7rKqqW+z/HSHj5YA3IMQDLgDLc+lHMdn5UJch0fyK2y5ieq4bpyxqDdYUgdqRP9kV0yz+aMIyVwmGJVKBObGMnJ1UrONcJE6bothyKnVD1jweGhLg9DHUTRQ9dIm3KHBJDALu7de03hCwnXbRDuGmCUytV/FJUy7TFWReblR3wLdG7zLSvZ4DwV3tRMKTyb6XgMjJcDccKUT3va08rBOUaFN/PCF76wHGiLnDjPB2gIMHG/+92v5LoBUoYVUT68MHLk7whQog7FCd+Sq+c85zlFySnr9j7eIzABiFDqNfHGyStFxhPrIhGCkFvG151ITvcDM/LF9siCXrTM/JyEN/b3ve99EyF8BsmDcNTRjz+UJMRMKRuXPDNlDtzUqQR7UIhabtqBReDIGCluexFw0H8YsPbYrTvAJuQvhF6D9XbZ6Xwnk3SH9u1JRqSL7Fkv5YEt4zZn9dTpkmnXYp/b9/ohK+rbD9Fmv/7Ux0uGUD8cJKRev3Gq42Wc1goYEi1w3qEftdsDaOT9n/jEJ5a+7A9tIvOQphA1sIa17utqX/8Om5LvG3jsQVyrN/YC461v7ZvnUtSz5ep4oXgHTgEu58+0ow9A14OanA8BQtzq6q4idayTMgCe/eu8if2nb+kbIKCz/6UGdMMFcwZ67Td2JYFDH0aN+2X3LlOYNhNl/dznPrcMmdBA3YSKsCPeoFucKB+C048oBt4XoaPMpCR4ZNq0KW1mSkCYdxBQqNu32Xhc8oJyb/2UZF1nvnxm7B1G4nEvXLhwQqFOd342uEgRr2emJDwuAtUvR9vVvhAtA2keFCdlRCbMTT6aB0Z2GAbGmHGmNBlOYMc7sIDMhRcpTMpLV4e8ORRmTIw2XoXSBhQoWbLMCLWBg3raFynokm39AQ48WADbd7LMA6ZkgRQRDWR/AFYOmlHQDI82gQYHzyhLIMN8jY8sOygmvcFT5WEKN4eB0wb++J2yj7ME7hKQZ1Yu9loZQOs/+9u8lREB6YoMtKoM9RXPtY0X5tHFNw3FGijvZL5xWGdrH+Cgq8Noj8HVj0gL4DCd/tTTD50TY4l2u/o0Vu0bo3d6arpEzrzaJAJLJqwfwBh8aZerv+NPm0fta2TSnjZH++TKn1/Z/PJXvyx7JZwE+hN4fNjDHlZuiwe4yRNHUPrZc3zsaRE0EUF3w/iNfQAOpNKkGehxjh8AwB64Zk/bh/ZQrFM9h/ozWbWOyolWjSt1Q+BxHe1yHhdULWxGAVImBMe1IJtGGPaAAx7fe9+xKLNhhB2apOApCkZCWC3Cg4SbJ0kAbZ5hiPDzwoxT3m8ugQZjZqjMmyLCZwYTb7t4ScnxjtRxmpqS8M4YMjqu84LaymQYPqpDYdjg+llWMm4pBgplWGIoGHrKAiCl7OJwGw/IHIEEBtf4RBbkWikoRlZ5Rj2iDeRUesE1BliUQeRCKLT9XHxyiP+MAb538S4UbL9og/FrX38O+jLYlOWCXoTBrX0BGvADfyhI8wT69K+89IS5/td//ddSh4XtD3MHRBgBBtJYrBPPTF/AjjYZUnPgCeIbAxD7q2s97EV3NJCh4F9XueleMzbyPSwp/89/3Xhnlu9deyDa83uQz17R36B6Uce7PYeAwqCp6urHmtX9R91lfdcWZwp4do5L1GsUZJz2BmPsoCP9Yp9ZZ/qV3HpxGMwbH4BcoBoYJVd0Avn1u6iXegAOgCviYZ9rD/jwFExn3QBQoIFs0QUiiMAS3WXP9gNn+qC/rYv28GWq9RgFn6bbRgKHARyjpAgB4RMilrvtt+ADmlnqJ96NnKx2KbXwnBQk2K7xVh1WC6IMKXcKkUEJYiiNi8ERko2ccPw+zu/SMh5y4zwHY8gY4IVNK8TM4LU9EzwQ5hTpcfoZj/AMWLBJhdt5LADddDec8kLgdRh8efJP/xQ/flCilBLl8/CHP7ykvigU62/uPCO30ikvr0/h8fQjUkBOhVc9O4Cc4S9FJIQbJ9pjbq77HXCgILuAJw8IUcD9SN04bLakl58VugV2jKMmbVHmxkUGyLBUiesUcH1YLuqZH1BgvhR9GDy/4xsF69yGfqUl/NVF/BDNsF/6yYL21AHmla0BTvS9rO/6DBBmfObbRa773ZqJMK6++o3h+3qedd26vahX9xdt1nXis7pIeeAK1fus3ziVi3EqH3NzfaZE9sh1OGP91mu6/eDNgh54fcpTnjKtqhw6rzbhl2igV5sAW08arsl+keIYlsyb42Tc5HxcadVxHdg4jMs5BEoNOSU7CmG28aQ8KEFKYrfddl9q0/LceG0MYhCvSijX4bPY+DY4ZSlcxquL0G7UGed3IEE+XxgPEBDeu+CCC0uaRd7bgSvKvK3EzJ3CApB4t0EOWDG0eCa0L+w5l4inLdwJCJEzMsKYOpsgLIo/wCPaspcDdaiMogovTX2RhFDmvvPceFKMswgFokTbhpzh5MUzBuSuyztnYI2rX+pMHf15+imvStiX0dtmm9v3xjk58mJdr732hpw6kOcckUPFlGU8LKgMtvrPHIzR/IxTWWRMPEApOmPTjlvm3GcPQHimgbH3I/vQ2QbtAJvBv37lp3PdGK0Dwot+4wgjr2/l1157rQLe1AeYYr+3+4728AP/gW711dNfP9DhujaVU8/cecExzpCzdn8xTv30i0y16wz7XZvWkWdeO0zD1p9P5YAT69Nv3cdhrhlx6LMKFs1tmBSLTTKqv1oGiAjPCiXzzhYs2GJCCRqKDcQAxul515Sl+IWL/Y0LGx2JMginCesZXyip8uOY/+dWQ7lDAMDYeYVeRx11VMOQxUlpHmBtyKBxkQZUAyvfHWpb2ItWCC3KhQNTwSu/D0MMVJ2OGqZOVxkyE55D1+/ta+SN4nT/u6iJkK2oFADk1iz3xjP4ASzUp8iBLGPGJ9GEUDiMQpCIAvlhHMhKnW7QBsMtfCtU7+yAsbtet4HX2g4gHW13vQMN0iTkcauttuwBvBsjZNq9ATj/oYzH+lsrPKcwGfs2MXRknVwYB8BkjMiY8MSz/jfbbPNeavFbhWfKO3Mh7AxUAFttUleUCigzDncAjJIAGWFshp0x7pIrc+NZAgHKifZYJ2uE//RPF6kn+obWXHOtUge/gWkARF+8+DbhvzVUn67Rjz0SYNJ1oL5Nxmec5hHjVH9UpC1nurxWdrI+1gmfx5VGt/LjOsNlHJeNJ48F8TMAvJFRkMgBZWWD8jAdsKmNG2XhLEUQ5UYRy1FT6k79ItcpfApaKDs2ftTzbg6MCgXGKKsjREwBhILq8rAIrTKUlnFS1l5disLv2qRsjF1ojgKr51SPKT4zZoAQj1k425zVETkAADy5zf344f0YO0UpnE3ZhYcU7XnXb6Q3nE1hhIx7WDJvp/Ot+0xJeNIBxDoq0tWmeZkTo+iz9IPDVwAD8OBOAVEm6+w+cb/HOlhbp7itgdCp+auHt5FuofDJGxlixOJ6jEUbQIW0nEO1zkDgM8MLjESEgfygMFZRv/2Oh9ZV6sOaOmNQywJZERUgX8bC6Is6IWvfZeCN0Xrqm2wwLkAG+dSPPWqsJ5xwfJk7XgFUXtIlIgoLepGWehz6I1tAPN6I1pj7KMkY4xCnvdgFuozBvMwBr8g1PgBH9qa542mbrKu5MS4bbbThxLkgPFePTOFxm9Sz1t71oT98Aa7UM46uNY5xAiOiROShzc92X/l9+hygA8iJtQhQN/1WZr9GAoc+PLYpKRQbjNKxyUZBPG1tExD5XMplEFG0Hrwj/+f++zAaNjIQYiNTtm0D6bpb43hzvDN/9pfyokQZBWBIrpuXFcjWmChjypQx4YVqJw7/xONpY7wUE4UuMkPBEXYKXLSEEhxEygltAxy84FBCjKA+jUWkIbxe83cbn3C1Q0lON1OwbQqv2RwYlbahbJevv+uTl28MMyXKeZh2KGog6UUvelFRFG6ZFHEib4AP3gACvHTjq0nExhwpcSkCBsahWp62RwDj6d/++rcCSoyHkeZZ1wS4AWjkysEuPHVmghcuVRJyj6/WwjobR6xX3ZbPf+31R27wkYFvAwfnexh2skKeASuABzFigHRN5qQ9wNkY5Z2BeGPAN2kJqREPAiJP6pNrh9PIAB71WwcKWppP/85DjJrsO3JufexjPGmTPWn89jOnQFnjsdeAQnXskTrqpg1yI6XJAQBO/A7kWSc8YPy71sreAi7xxFmq0D/6ttbqkKk2qUcOvevDvJJGzwHrQi7pZABtXCmBQ5+Vcb7BhqYgKdQwrn2KD3WZUPBmbWobVog+Qq7tBihM/TttfsoppxQl7Pa7oPC2upStMgACz5WiZUQoIUZBOJzCcBKfgRACZ1AoYsaFceapGZdb2ygkD1dxT7J77531oKCMD6ChsPUhp8yzPfLII0ueUtlBxPjHUzEDHCgPrDEu+O1goHFQZp4JwNhQqvpkcOT+22SOvC4AjYc+HeCgfREHc5sp1XMa1JZ19ORHXjhDSzHX5Dvwah48YmNExggUMkjkSPTqmmtueFQt7zkM+3W/u66AO99FpfCmJrxmmAEK5xv0ReZ49mFUlGco8N76AIxdByiVu/rqqwq4YwitEfkMIl/Onzipbk9FlIS3a70ZQ0Yy6pBJxurjF97w6F7yrw6Fqn2gFaByINR35YN43HgE9Go/+BG/KwtAu5sC7xjq6dC//nljDtq+rvuOdsgAfgMlDjuTSUCh5ivjj6fknLyHsQAePeIbr8iGNFTMQX/qLelFqRh7ezL0iEgXPjnbAWS318qe8DIGezbWEQ8BL8CTXLkDodZ59qCzKeQPP4GVpNFzwHoBbqINANq40o2J0HEd4XIcl81hM/K25dgZbl6O8LtNKFIwXaKI1XN3Bu8GcCAc2qRsKG3etJc+eIAUIkPPuHvKmnEs7OXua6+DwaCIRQ5C0cbYKEwPlPIUMyfURSO0v6j3994Za4CA0dVfHLakaB209Nx5Y1POQ6wYIZ4hJUv5UeSIAvSgHgrbX3XjBe5wjx2KcdHWMESx1gbWPN17jyfGSJFRiACKscr/M154av5dRNnZdAxQjLWr3KBrMa6ZvA9qv/6NIrZ+FDfDIQrFMDCi+ADc8TqtI+MexoPsBA8YCusA8KnHICBlyDTDQ3ZEptqyol4AE3ICNKjDUN30Jjc+QRCoIGuMnHXqR9IUIgraFPnwIivm4G4Ra8m4ueUSkDEfqSqgiTz7XfnwqKVqznj3GcW4kzNGEqlnvLxr9Rl/ZD5kFdg1VnLeBkvKaT8eTW2fkPmpCMizJvYoxyL4b2/TGZH2sH5BDLtoEEAL5Nj/8bv2zFc96w5MxR4XAQAe7GVzCVmONZXeMVcyEzzRpzW2d8zH2RjGvu6PAwDg6yucAPXoOfudsZICVTfq0VccEZFFciCiSBaSRs8Be4/ckmvgfVwpIw7/XhkblLEW2oTIbXCeNcO1uBe2tdnkzz2ZLpT3MItKGdrkwIDUAq9Du4ySQ3w2eLRnDAweoMHQR0pD7tkmj3L6ZZy9GNLaM/Ab5UJhUYiEUGiSgnELX90Gb9a89EvBO3ToM6+OBxZlGRt9UJDCaA51MgwMiHGKaFAoxuK8BbAxXdKW51l4KpsIhohF5JzNk1IzL4YNzyjaLsJX3pTxUXjjTgyF0DojZuwOuxq/tWHwGSmgwatW1sqSCekoHgrAdc45HyjRnvBa8YtxY3QYaZ5im0QyGHJRMCDSuQqgwfXVVr8huqEOYEP+GUyGLtambo/s8JCX9MC3MTDODBUwYU9JN2jXWlpj+wAZGyDh+SVkybqRN0aPYSXHbiuVumHgkHdgFX/IHVDOeOvT+ERxGF6n9GsPv1Tu/YcveC0qsrAHyochhpP82U/Akb1AFl0/+uhX9vbcJgW0ui06AIC+zfXAAw8sAEBEy1zsKfsJMDT/ww47rKxD7Dn1Dj300NIXwA784IPfrZHbmOkFtxkCJUEiCIAUmcB7zgc+GM9ll/2kp4vOLevoQXZ0RPSnvj1FvzmcK8Lnzib8sXbGCai5RpckjZ4D9isbQYbtk3q/j763mbWYwOHf/LNoyAaD9BhCytl1Rsir3mT/rjblG2XKqyQEPEOvQcRbFl7lgSHARWphqjMDdZv6o6goH7dwUsSUY4yfp0LheleGoFKEwJL73ykQc0fmz4NjWBZUB8woa+cmIGSKJuYoxNllVOrxtT9rg2LiWTEGlD3Px/jMH5BhKChQRoFHZX36Ub1m/cqMy3Xzko/3xFGgiVeKzCEUNWAh912TtfTcASFrBgggPfjgJxWjFOusPIPv7hIy1XXXAGOE3wwvA0FOAMwupcVzZpAZc2MKGYlxkTMeOaDCK9UvA8aDNSa3lgJA0h4BANT1m7aBDXIAnPgdeGCorHdX1ICckl/RQaDBXsM3MkP+GVbzqPmhvwA45mL+0mbDEB1gTYzLeOIOEH1ef/0/e+1eX8bT7o+BNh7v+MzoA03kmxzbR9JN5lITPh111FElVQlELekBMvsMkLYnAHRgrk32jn0I4AM1eGrMwOhOO+1YIohAZAC3qK9t9QARoAqQxEvjJD/6EwWM9EbUy/fRcIB84Tv+4nN7f42ml9G0ksDh33y0adzz7jVKsuFsxlETBeYlQsHwtwkAoigYIgqJYgpShwLj9TAmyjEaFB6lI0wWRElRWrwr4WCK2GehS4qZcoKShaKdj/D3BRg0xjCIYkVtheoa0ECRUv6MlgeoAB68KkaH92Qj2VS8agaF0uQxMpg1yNGe8CoDpi9Kby4QBQ4cWgtjt54UPXBWG9j2XHi7HidtPZQLLzfKUTzSG55257P22kSGRIl4pdYJr+2FLlLG0x0X9yJwhx9+ePFG63IAA1lgmOXA/elh7ZlTzKefMnSdJws4mg9Sd9AaGicDCGTrgxy7Zk6D+Ia/wAnZXtiTubYBredUfyaLXstCQINHbwNP9prxMtBk3bp17Q39LOiBdREMkUGgTDl17LtB4wZsgC7gTX/mDESqh6/9+qMrpHcYLvVEAmOcdXR0WXiQdQZzQHQacJBuqtNPg2utmF8TOKwYvs+4V0afERcNAAS6iLKRSgAE4hQ0A+zZ/iIM8pzC0pQthUER1YaDIWHAeYxO90duk+cv5Eop8aQYJBEJRpuXoo8gwMBmoKgcEqvDqpHGYYgYjDisJRQsty3XbQMZGxAB7JiHskLGoiYMbk36ljs2praXXpcbx8/WoW38pxqnOl3RgajHIDOkg8jaDNMvYwS0AXCiDj4HkRVpCiBTf+SFodH/IOMf9eOdwZ/uusUcp5pn9AF0kmEGeHmG3a0V4+01HcITvPeaDqkHsHhNh8iDNZjuOkynjyy7NAfIpD3kD9pNd82Wbm12ryRwmF3+zlrrFL30hVAkQ9tFwteABUDA8EqDyKV7RLW8qsc680AYWzk10RFAQ06a4Dpx744ORkFemndHGcm98/YZdHV5ekCAMxnyuRH6BSQY92OOOaYMTzthbCLSIKeNKNVLf3xp+fz3f/y9nDURqeGpImc1AII4RCf8KjrEaNTEQwKYzGs66Z26jfzczQEGxVM+3YkAPEhXhIKz1pE2kXIQuVJ+3Eg0RMhfakNKBnhISg6saA4ADKK17nBzq/k47p2aRwkcam7Moc/AQJyyF8LknTPkNcnhCom6BdNtlzwWAIJRFWoObwsYAApED0QH/LEo3gYDLAKhLM/fQSnkHISQNOXLoFPGDLb2pRpqT4Xh5wm6KyKUtU3hMKY7P4yH0aHMawIkHNoL4MCDdWATsDnppJNKWF+qpL3BgB5tKSvklzQ6DuA1ngKczs443OuzkLbzKcL/wKNyIk8AJbkJcDG6kSx7S/L1DpQCsc4otOVn2VvOmsmBZeOAfeIONfrWXzimn8edEjiM+wr1GR+Fx/te0MuBOsfAiNb3VktfMNTAhNvYAAjX3OYFJDgAWnvr0hmQrsgDIAIMOKfAAAMoYcANR3rgiCOOKOBBu8YCYDj4ycAHMf768VAjqQVgJxQ1T++ggw6aiEBEnfod4AFqkHY9vwEAETlhkNohehsQoJG7dl5AqDxptBwgB1JKS65YUtJJ1pF84DtZc8iRURYdAgq7zt+MdkTTa01KzSFUY26nuabXUpZODsycA5wmANyt1B6PzimbC5TAYS6sUp8xAg1SA7w9IEF4mHFGUhRxvsHBSF6ftAJDHMa7btY1EQXnGAgz5c/wd5XVBlDBOCurjLJd5CyGQ5XAjfRI0HRztkCO8xgAg8816Ik2RT+E0RkFc+4ae5TN92XnAEC2aNGi5vreXQQeUiQi9exnP3tCDoBOsgbgxa2hy97b6GqSaSkygMbtjwksR8fbbGnZOODpp9LB7mzyd4hCfy9ba8uvVgKH5cfrkfdEyHh/DjC6Z1to3+1ZDn8Jx8o5izCIClCaddRg0GD6gYB2HYY5IgLt3+I7799hTMp6FHes9OuPh2sTyhU6j5HnG2IFRv9u3Tfd7Ia7hZx3cWAVaB13Mm4AWirObZhJyYEVzQF6SqRhYe/uHkB7rtAqPYNy43Na58qoc5wTHODxuzXyuOOOK8rbQ2M8AdLDlEQcePxuWaQs26H9iUZm8YO0h4N0IhTSKcOCl+kMSYrCw4U8T0KozzmL9Canw8FlK0t1iC4wyF0RoGVrdXZrGfOgyNvs9p6tJwcmc4D+RsM6a5Nrr7hvCRxWHO9H1rMDX1IVJ598cjGcIg8OSyKKnbH2oJnZMNpTTUK0w4E5t6A5BzFqYggctDz5XSc3W99263JSvr7lc9T9ZXvJgeRAcmBl50ACh3kiAZCrOwoYZ3c1zDUEO5NlcOjTA6hEVDLSMBNOZt3kQHIgOTA1BxI4TM2jLJEcSA4kB5IDyYHkwL85MPnpOcmW5EByIDmQHEgOJAeSAwM4kMBhAHPyp+RAciA5kBxIDiQHJnMggcNkfuS35EByIDmQHEgOJAcGcCCBwwDm5E/JgeRAciA5kBxIDkzmQAKHyfzIb8mB5EByIDmQHEgODOBAAocBzMmfkgPJgeRAciA5kByYzIEEDpP5kd+SA8mB5EByIDmQHBjAgQQOA5iTPyUHkgPJgeRAciA5MJkDCRwm8yO/JQeSA8mB5MCYccCfZ/fo+niU/pgNb6UbTgKHlW7Jc8LJgeRAcmBuccBfYT3hhBOayy+/fMqB+/s811xzTflLuR7D/4c//GHKOllgehzIP6s9PX5l6eRAciA5kByoOOCP7DHQ/qS9P2q35pprlj9q50+tr7322uWvp1bFy0cRhEsvvbTxl239AT7l+pGy559/fvkrwPvvv3+/YhPXAYX3vve9BWQY2wMf+MDyl3knCuSHGXMggcOMWZgNJAeSA8mBlZMDf/rTn5qvf/3r5c/a/+pXv2p+97vfNVdddVWz6aabNg94wAOafffdt9loo40mgQd/0fY3v/lN86IXvagAjRNPPLFZsGBBXwaKMog43POe92xudatb9S3nB20DI1deeWXzgQ98oJTdZZddBtbJH6fPgUxVTJ9nWSM5kBxIDqz0HGCkgYZ3vetd5a/xPuc5z2le//rXN0960pOaJUuWNM9//vObs846qxjyLmZtsskmzfbbbz8w2uCv/n71q19tAJR73OMe5S/gdrUV11ZZZZVGu095ylNK2Y033ri5613vGj/n+4g4kMBhRIzMZpIDyYHkwMrEAWmJT3/60wUkbL/93Zvb3va2zRZbbNE8/vGPbw444IDCire97W3lvEHNF8Z98803b1796lcXcCE60Y+uvfba5pvf/GYj7aH91VefOkgObIh+/PrXvy719JU0Wg4kcBgtP7O15MBKwQHe5m9/+9vmox/9aHPZZZfNqzn/4x//aL7zne80n/zkJ8sc59XkRjgZwOH3v/998/3vf7/50Y9+1Es7/LW0DhjssMMOxeP/xS9+UcqQF+TdwcWf/exnzbrrrtvc4ha3KNf7/SdFccUVV5RowyAAACxIT/zkJz8p/V100UWNQ5Lbbrtt6adf+yv6+iWXXNJ88IMfLCmbFT2W6fQ/NXybTmtZNjmQHJj3HAjQcNJJJzU/+MEPGiHq+US8XIfrfv7znze3vOUty0G/+TS/Uc3lpje9abP33ns3G2ywQbPjjvdq1lnnxgOOf/zjHxsHE9daa60SJQAmyI3owQUXXFAMpUjDYx7zmJJa6BoTYPKVr3yltHGXu9yluclNbtJVrPnud79bIh/XXXddKRv96Hu77bZrVl11fP1jBznf8Y53NADWIYccMjBt0zn5FXRxTgEHCPJTn/pUc/HFF/fNmwUfCSrB2XDDDZs73elODcHrd3KXkPMueE6Erqb29/hN+0Hrr79+s+uuu5Z+4lq+JwfmKwfkm0877bTmwgsvbA499NByKn4+zZXXymPdeuutB3rEdMO3v/3tYvhufetbTzoA2MUP+kuUhgfNKNJNW265ZbPeeut1FZ907ac//WkxLjxrBwSF7VdbbbVJZdpf9OdOB5645x/I/W+11VY9A79Ou+ik7+YlkvDjH/+4oRsBA/VufvObTypHv97//vdv7nOf+5Q7KSKNIGIjhQGA0YsRVZA6OP744wtf8eHcc89tbne72zX77LPPpHbjCz7xyO985zuX/uN6/f6lL32peeMb31jG++hHP7qhi88555zmy1/+cmNN6P3ZJODoz3/+c+m3tgntPgEEd5vgWU13v/vdm/3226/wxbo4HzLOQCfGPqeAg4Vxaw5kKdQFRBBwAv2QhzxkAhjYMBYKiuM1yI854fuwhz2suc1tbhNzn3i3UYTPCKqw2w9/+MOy0eTrhNwsdgiFsoRFeeE5fWjf5gJQkpID85kDjAKP0aG3Rz3qUUXpUYjzhZzIZ6zcGUCnMLZdJIf+sY99rBi/hz70oc2BBx44oSO6yjOUn/jEJ4pBw0NGglF2x8GDHvSghgHpcmzor/e85z1lTIAG/XP11VcXXfPgBz+4ucMd7tDVXcnxc4YcLGSI1lhjjaIrN9ts82b//R9WjLFrbYpbHz/3uc/1dOgfe0b/5uVOCQZ5r732avbYY49JwEMb7XaABjICeB122GHFqBr3hz/84QKYnvCEJ5TzDXgNhHYRHgFl7tIQNQjwUZcFit7whjeUcm95y1ua+973viU9QfcDtQt6d2oMOj9RtzXdz/jkYCgbRP+bUwCnuq0lvUOi+OHOkIc//OEFyNSAz9553OMe1wCG5gJI4vO405wDDgsXLiybzKItXry4GHi36Tz3uc+dQHOEFAp0b7Ec7CmnnFLQs8XmIbVDXr7bvNDx29/+9rJJCbX7fx/72MculSMj1ACLPKjyBFW+Lik5MN85QFk78LbZZpsVhTff5N5tgvY1g85brUHRF77whXJboDIMAW+X4zCVVws0vPvd7y657G222aaALY4GB4XXDagcccQRzW677Tahw8iRSIEDhPTcQQcdVJwYDszXvva15swzzyw67dnPfvZSDgu9JyIE2DC697vf/RppBU7RmWee1Xu/pHnBC15Q9Ght9Dlcp59+evPOd76zHHJ85CMfWQyvCMxHPvKR5rWvfW1x2jhgXSDHmPHozW9+c0nvPPWpTy1zYlDp5Jvd7GbNk5/85OL8ffGLXyxljK+LgCNRH3IGHHUZZYAKbwA8gIZBFpEByIAlz4eYKrrS1fcw16yDvvR/+9vffuIwaLsupxP4A+J23HHHAtjaZfDl6U9/emlL9GS7u23XbLjRhu1iY/V9TgEHnLMBvHj8gACBEiqDLtshHojXBhW2AjRspN13373cD1yvgno8C5ELCFi7BE4Y7o53vGOn0KovzCYcd/bZZ3ci4rqP/JwcmOscYFjOOOOMktI79thjSyh4rs+pHj/jxvNjYN36x8jXFCkM+kK6gOHgRAwiDgjdw3nhmR5++OHFeGhDlIH+Ymg5INqkbxAd5DZHYfdFixaV/DddhkQ2pR48/8C1l7/85cWr95vrn/3sZ0tE6G53u1upp83oz5j153XccccVw6wechCR4WIU3UrJqDPGbpmkG1/1qleXMUkBADlt+vznP1/aFRlxZ8W9733vCcOtTREB7QE9wJTvorpd5OyM1HG/MvTuxz/+8ZKyluqIFID1EGUBiDiU5j0bpH02h90gN/1IxIMc4c0g0pY7UV7zmtc0Z7/37OLg4tm40pwDDhhJ+IWx5AmF0GzALiYTUgIPtaojvEgxEKguIsxQvs0ORdrI2uhHIhVO7fJOoMak5MB85oC/FQAkU3LAeteem8vzF6UEGjgP7v1v7+k999yz6BpOBX3CixRxGER45tQ83cKD5wWHTnG2QVhaCoMH7iAgQ0qvGIdoBAMlJQQgBL+F7Xn9ohjGwMERVUBC4xwkEdGdd965GK26P+kN4/nMZz5T+hNVFVUBCgERkRTRjQAN2hRVAqR23nmnkjYRngdK6N4ghlEkylkI4wVu9OshT7xpOpguZvA9mEndffbZt/AFD6WEY370Ov2uvn66ogZSSXiLF3RwEODkDJznNzDY0snOVjhAiSfW1NkNzqcIM5sggoPvUgZSBdp1OFZKWnSJvEtFibJo3x4wZpEN6W28Ah4AS2CGDcFTD78yL/OIucU42+8AjpSXaI++HRrtSs+0662o77MDx2Z5NvJeFh8qd+rZQaF+C2OhhVeRBewKecVwhQ6VpRQcyCHcdbvQrBBaTRacENoUScmB+cwBRopSXNhLF/Iq5xsxIgwWh8H+py9qYlykJUQa7fepvFnGmIERAQAS6Kk6NaBtHqtIBGMJPAAYSI5eiNvvIqe1HtIvw6g9Y17cC5czcowXvcgQGp/zXHWqRbv0pXkwenF3g+v6lY5AQEJ77oALQ6wfPGIwg4CGU089tRhQD14CuvTLaMvv09PI+EQRgCLph222uV0BR9IbNWmboVem3xmOMMbGxcDij/a/8Y1vFGOPZ8pIZ+iT3n7/+99f+IVv0iCAjvkAC4DUt771rZKKedOb3lTS3BxMTqm5icRYT+3hm9QIPukTRVqcjbjXve5VAJi0DyA2LInkiNIAINZ0nGlOAgfKy6aySMJoDHcX+d3GhcJtNgtTo9O6DgEAHCBZm5tQtM9C2MxHHXXUhLCoA2RA5PNRkdb8yc/Jgfe9732FCZTmVEZzrnGLUaDkGTtRAcZlpsRg0j2Mcj/ngoFl+OgcnrIULGeH4QQmAIC28Tcu5ekz0RFjBgRETBwaj/6AlRpwRD1ghFEV0tcXcs4CCOFVdx0olAqg44zFnMIgAg3SVqIcPHHnGnjaoiAHH3xwaTsiBvSlevQyT1wkgMGmw2OcfjN3eli0oZ/X7ZkOAJx5X3P1NUUnAwPSNvhgjvhgXgy5svQ0IOBMhO/mYhxSHX5jV4Auc6L/vcwF0BLdAWiAAeN1XkFbwJl5+e1DH/pQ41CpCJJ1YE+0OSxZE1Eta4qf2h1XWn1cBzZoXO4FdmeF6IEF7BdFEBaDDqFNgkThQaJdRGDl1bRr8wg/1QeA/C6EJC0RZPN6Drq0RmyO+C3fkwMz4QDlzAOkyMgk+RJ6Fu4W9g1FG30oL4/OiFA85J3HJPza73Y/Sldo1YsSBwaEmoVlAex6XxkDhc7DI+/9iGFwxwXvjfHVP++dkRKi5k0xosKylDKF3SYGd3HP4zrvvPOKMTNX43Jn1MJetIOC7SLKG7hhQBxYBvx32mmnciCvn3MR7Sgvx88RYBi6xhVlh31nlM2X7qBLutYBj/VFlwiRWxO8th7qMdZdIA0PgAoes3qisPpg/NUz3645qGcc3oXh9UdWrK16AII1blM9TuNj2Blma+SQqHbo25rwUiokxmEdgQHAxB0WgJLf6fAgujoOpyrbNXdlzdU5DK9DDzu0RFKsIdmVihHpwEOpIHLoD2oBCuZuft7JBz7hvZcUtYiN+Wlf397ZAmBCG9ZThAj/8MTv1kBfPksx2B94qU3gDpAYhoI/6gEdeNolM8O0Ndtl5hxwsCA2OOUolWBRawUXDPM7BAgFE1x/Ve2JT3xiXwNvEwk3ER6HiYT0LCRPxMuhMML4ute9bkJpEyyI2AZWNml+cGBUSH9ZZIKyOP/D5zcnvvPEEuJ1OEzol2GQ86asHbALr9B+cMiNnBs3jw+wELJ13TsvjAKriYHx4BlRNLleXhd5lo548Ytf3LziFa+YOMSnnj1nDJQ5ee8i3jKlDYBTnkL0Un/2kvA07w6Q8JcOjYnBk0+vQTcPTV5cOBzgcG8+DxKIYiR4serEYTjjMG+K3d9JsH/NRf+MGw+R92ffdumJmIfIpDMGwtbmuCxrF23FO4PCmBofY8CwtEk/xoX3xk5veZkzvcO4dY3FNTzQtnry964xnurpqytSoX/X9Wd86mnDWiAGcdA4/S4SYnyM7jOe8YyyptroIvqxBg4ctzgjALD4Xq8/4yxKsLAHEK3FILIvPIQs9Da5Fx3Ye6+9m8uvuLyMT3qlzYdVmt6/lr723RzwG//IDP6oa+3w2vkI+21JD6TXhJfK4b21iNvyzYNcaWcYMgaOqXmTXU6APTOONOeAA+VFuKB5yG9B7+AKZGuxLbzri3veCu+Lt0Yo3bLklC9B7UcWySJrC3qknNX1nUKk0LRfo2NtWey2EEYfxkLRAzhdKD7K5fvMOGAzWyPvgx5LO1Uv1pfxcOJ82M3er03GwK1n7uKheIYhno4T5wy+EChDSYFSSu5T56FRWg7GkWXzfdaznlVytzxyB6t4V5Q7QM1oM7hAxitf+coJOTU3gIEBd2+5h84AA0ALcCw6ACgwvmFEHCr2O8VcK/qYF97x1gAEYIfyE3XQhz1qnLxLHhRjsWjRovLQG4cs9WMPyUXbp/Y33j3zmc8swNzeZhTwA4A31zgMqH9GD0AgAy972cvKHqXoeW08WA4EoNJvD+KH+YlY4C29MgqiOxgT68S4eHWR6+avPIPMMDNAeGotu0j5aM/4rQ2j511/9e/t+n5D+Gp8+qFXkTYH9amu9uk2n/Gq69k4pbHef8pEf67ZC6JZDLp+Yg5+M++I+kgTtA2+MjXZYwt6smUM5uK7vtZdsG5z69vc8EAufeCP35G5evmO397ju8/SGkC2KJyomDGwI8CocTv/AhxzRNWXMqdz7BPtnHzyyeWzsQC/9oI5Rj/1+Ls+21v2q3aBlwQOXVxahmuYGSjO54VV6NLCERIvXo5nNjhFTFFZ2FqA667Vo6wYeYItz8Tr8NkGJjhCeQ7qDNokdZuUmFusKC4HhvoprbpOfl42DlBkDlhJJT3taU8rMtFvrafqgUIkV95nQgwXRUi2hiFyRlkBDRSNB8rIE2tnSQ8skEFRAgaeMtTuMcccU+bMo3MiXm4+FDH5p+ykDdQVYpXXRYAxcEDxOewHhOCXebt1kDEJJRxjD+DcPjAcv2vLOKUZKF/lASHjET5mkNVF9pB5UKzGYX/yskUTgCPPVPGcAR5erKOx25OAkDoAWShrYE9bUjMMUqQlRE8iNdLPGBoPr1t6A6+lNsx9FMRYkAFkHrE27bZd93voL7IQstOvjjbiN/3gO70Xchtttvuq6+kvygMcQcHz+N5+1589513Zqcq36xtbjL3+LeQckLTWw5C+rW29vq7FGhojMOLWVrLA6PturwFLdAZ5p9/ZFVGMI488sjyzIiLUgIkoHPn97//+7+JUSpvZN7FW+ie/znuIwtiLdJE1kaIThePMLugBHRGJrvmbr+vAtXoRBRqGD8u7zGh2yHIctfMNkUsTlpXzDa/IMNZYfY1m/Q3WL8qDQrWgUwk2pSfiwMhri6KjmAifzcULoMwseAjkoClTmE7sUoK8plEctBrU3yh/o8B5ipSueQgXex49T7OfsNuA7j/mBTpHMhtkHYA7BpL3XHu91sx6UQxORPutHRkaZkzkRDtykvqbCWnLOIaRF/2QPxED4IDXzegzZAgI4HmQ+0U9T52hlVcWnaDwRcdq0KCOtSL/FKewp3BuAAcA2XeK2q11ADGFpl3KTx2RgNrjszdQ+xbFcrH3HxngJfGWAAPjE/GwZ4y9ztVqn2KkdPPaThwAABb3SURBVIEV3wEmgECo1sPc2ukQfMQP85VWZPBi35uLOUqNkL/IYduzyjsbwhvvR3gOeAIdUz3MqV8bM7lu/uTN65/X3/h5qjZDRr3TYTXFb/W1+Fz/pm9UX4ty/d6VjTH3KzPd64CIiJW14KWPytGyD8ggAG3cnEHX6Hjfybi5AAsI6HTNORf6T3kyT/bsafLl7hd7MUA0ObTXzMG5HaDPb17aBoL8pl/7wHs/0ocy1lP/xujauNGcAg6YL/wIIVpMixiRgZkwlrB6UWbQLiRJeGLBgA8GlTGKaxaUoqSshK3CyzFGBzKFfHmN6gwSlJmMe5R1zQdv5YIZaF4jPkPYDDXjZLPVh0Ojf5EVBluodyrgIBLDWFHkUPsg3hjTRRdd3DssdXEJrS/upaCsC2+0Bg7GYVy8WiFnBlhIcdjoUMzDu7WujVz922x9Ztx4zbx9IIHnHGcY9Gmu/pAUEMqAUkZCouSP3AEaxl0TWfY7HvrsFUQpyz1bXwDXLWaAobWTtgB02+tC/sl+P4Xu+qIeqCH/yvHeKD7GuH2YEwghB2HsgAepBmPk8XWFZ4F3gMfc9WFeQQ4Q4gPw5fwD3pkDvuBb7M0oX78DLwwWkEPpu81xVIQPwUfjjvm22zcXL2u4zrrrFBm3zuqbaxcpH+0paz/py2fkd312kd+Q8nijn2HrxTgZ0qjT1cd0r1l760v3ivqMkuiM6d71Rgd06QE8s3e82qQf+7dNrg9L1iKiiv3Wfti2ZrNcf+gzm70uY9u8Gl4lRIe5jPwohJfiEFq1UPJYhMICBtmgFCMvLIgiFTaVww3l4DfKy600PEDIua3Qo/64vQuLOZFurqf27lsWcnPwCCCg+D1uVl48Qpv1+AEnwOKlL31pfbnzM2PiSZ5OTne1VVeipM4779wCxNz6FKi/Xpu6fOS+rae16ac46zpdn/U7ildX213XeMuAA0NuDsBwe47kiAIia4yy0CejB5h2GTt7RPgdMQ68nyAgAchioO0fRlwkz7PyHV70OYxS1FEOT/opM79T+vK9xgd8GqtoRg2CtCetACyZI9kSnRA1UN4f/Kn3U/QPbNj7eGA+se+1IdLl/IS+rTkgApxKEQKZ+upHPEfySJ+4h36UZIx0iXd8k07oIrw2bmvMcwUCwqBbY3xvk2vRHq+YkbM/rHP012+t1NMf3oVxDBlyPdqt+9RfjFP7vOxR6jbtkb23vvWt5XxM3ffK9hmf8btr3ceFF3Mq4sCjpZSgUyHF2FwzYabFoZDkfSklIaq2V2VziSIEclSHh+KacKjNjmxyYX6KS6i566BeCENtGLqudc0pyvmtrj/TsuqLuFCg5rCkF8IOr9PtTE6sM8bSF5Trgl5YO8iYhLjl27sUfpSLd+XjFdf6vWvvJS95SSlvM/GyeZ79iCJzKBD4Y4yMPcLz/eq0rwOEQuE1r9tlhvlufSjjYWRUjj2MIt4y7IPIIUIg2nzJa8hl1DF2v5NF4yCHkS7DRwZFtEcId3EvisPIAnL2FrDh77vgW50uMA9krFORdszHPhL5qaND+g/ggD/2cdwRojyA2CYA054CLowJj7RpnnSB/edQpPNMZNSc9A8MS+eIlOFTe8+oT+6BNik5/BglWRe81y9jDMy1yfjx1O/mhM+MP15YX+vYJYv4CHBq2/yVBxxE3uwb+6QLmFt74F19xlo9bQCsyHi6gJZ6gC39YF7ADQAxKop5jKq9udqOtSYP3skDvowjjW7lZ3l2GEmp8TxsDN5SGOyZdG3DUjK8LpuBh+S9JotXK2eb0uEaG6k+3W0jO9cgLNaVK7XpGCUKRKrFi2Kwkc3Pd8q0bYBtcn0pRxlQKOuvv0FPid5s0riM2QY3F+36HMqk9jjrudWfzZPhjHy23ygHXpN2tBneiPEaj/Ai4jmG91IujOi/UE48oWGIdws4uHUR2JkOcDAn6yrfieczIWuknfYZnK42KWvrS1EYfz8+Gh/Z4yWTJbwR2tdXTdadxy/1xNBKO5FJsgMgMNwMpevONCzqpRikNdyCGQe59FMDhwjBkoFBpG/RO+AB76WLauVH/t2mZiyegaIMOULG2AWa7CvnH4zJfJ24N3fXpQoZuj17B5q15zyDKAPg6A9HAcH6AyjrcejPGNwFYk54gf+jJPpJ5JHuMMaYZ91HrL13aR1rH3yIOXbJovLh7Nh79rfxu5vFXmV8ugCAtuxv9e0TY8SXOBSKJ/X+j7Ha9/hE7oBBfSaNngP2uHWz9l3pkNH3uGwtzhngQNAZAhvCJqH4bJCZEo+DkrMxgAbh1rYirvswDqFcp3TlROtbt7RljLy7dniW4XMASxpAmFlfnukupE4B2LA8AIcMKZtQckCGU8AemMKDRMawxRb+KMrjyoZXD1HaMTZj0QYhlGJ53vOeN3GYrBRu/UdpMRz4yzsLMi6em3fGI5QrwCCNwQiJBDFA8skx7qi/vN9DeeIFo0FRDlrPenyhQI8++ugJgFT/Pp3PwseMUQ04+9W3fjxFa0aRq9smCoVBdnZGeeUATMa95rlygCM5wwMAG3hBjKR0ksNd/uor2fXSH49TNGlxz1snu+0xRDnrPoinjLv9RI6AgHofqKd9QJ1SJDMMZTxjwn42r5rMAQCSJmNQ3WlCPu0nqTV/PdJ+kGbh3Rs3GfBsCvuI7BpDzaNoH5/wkxEEOkZNlL+2GXN9WV/rU4/F/jRG+sdaRcTAORd7/qqrri6GvAb+2qAXgL3QhRHZAtTwHUgBrPCpdkQioua6g8Cxn9Xx/Br6y6tN+qOnjJN+oy+SRs8Be4RjYI/Xe2f0Pc2sxbEHDgTcRuGpCNESfErMZhzWILRZpL142SQMnwWzGShiv+m3Jr/b/Iy+8Dll5T7fUALq+J1ilXdue41+86x0nhEDLIQKELhfHVggLAy8h98I3drQNivF5ryB9tzmo20GwKFFD7wRouWBIfw56qijyjwYdQqZEWREGAophX4kysLQ1YQHojy8VIp+r/vsVSIilDngROE5OCkU7GFC7tWfzpoE7+o+Z/pZm8aKfxQrvlLGwxJF/4hHPGLY4iMpZ7yMoWgVb48xEX1C5IqXJ1R//PHHF4PgbiJeHyAhssDgB99FLoBR6QdRL3l+e0U7jAnjpT+yUMsoQ89AM9wMSm2ojMN5Ir8x+sYnxN1FUnjO+dgvSL+ILDm46iCm+v4SoMOYgNWuu+5Wnp1h7NIR+kLkTFv2it+kIjwQilLFE3vNHrFv7akwkPrEG8BRW13RBuMDcPB8990XTqRySsd9/tNuvPRrfMhn+gBQIH8xDp/tQWkhdwMB2dYgIjnawnP7VqQR2AGOkPNR5q0Oh4POizXWF92B1wBfPCtAPfP1lyvdRSDSQv6jTf2Zr3nrTzo1gAN548jYz3SOP0wVa6weuTEW5YCaAHv6TBodB+wN+wTvB+nr0fW4bC2NNXCwyRh1wk9oGW0bngKzcfwu3GZjTMcIMXgWBwhxuNFjcm1KHo+NTHnZLMg7BUFx8ZY8TMZ4GBdh0yBlIpQP/bc9TfOgqCkx9wxD7pSnU+DKU+Y2oyf98RR4Tza+swMUBU8R6DBPh+cYGjl/fPCZshKeZWAAAGOkYM3RONueXIy737t5U74UPdAGHOxy711Km4wbMAHIiETwRIScQ2Gqi1/qt4nSAqLMw3q2o0a+40MotHb9Yb7js5f1oNTHnQAbKS9nSfCVnEWu3zoyLHEw1bNJAEUHUskUebT+eGY/kAFAU0TOfeSMVuwNxoJXyYhT/njjhU+esW+P8eiBU7JTk30mGsdYkc8wKnUZ687AGC8iv+YkCmAeDtsCHg5AOkwb4MhfXXS40RzJm7sh1DE/99k7e+PvC5C3Bf8+X+N3xtS4GM5Nb7lpGRdAQV7tDfOOh0jV4/SZ3Npr9tYeeywsRr9dpv2dXiDTeAa82wf6wDdnK4Bv8ls/vIhu4mB4lgajLYpgrsrilUc2G6/5qRf7QQTAcwTsZ3wDAgNQAYunnXZakXFt0wdBAKVIqDHhvd/wx36y9wKEAQlkBNgJkrKS+uFMWQcyZh+Zp/mZM7BHVtvyEW3k+7JzwP4hC+yT/Q/wjyvdKDVjOEKKwx8XIciQGAUboTxPkLPJ3PMtPxdofJhpMLYUCwPGwIUyskl5BmEAtUXJMvIMMCVDefJweD71potyFr9rLLyM/fZ7cPE2gBYbUoQhDLq2KVfAyJi8KBlzBzB4lWEA9OVFSVJiPhszZa6Mpwy6s4MiAhqAk8hRD8Mf7VGQFBbl77ZSYwBmkL6EvykyoWLhaU8gjPGZwyXfu6Q59nXHlrFFn35XdknPE7R2+FDzWjkKk4GAtqO9qD/su3WxBnhj7cadGEFgT6qHp0jmKX7zp+zxjKHnceOPuTGuogTOZIg8OdgHAIuyxG2V1r/mrxCzk+siX8L82kLknsJauHBhWetY55pv1sv5AQ/QEYXq8oaAZ8bVmMkGMAkEkeEAHJ7lT54Y/RibvSAyhg/+6BFDRZaBeOt3yCGH9P4GwGN7UZYb5M+41LV/tGs/n37G6cWLBoLIlXr4yYjW+1Rde9Rewzs8wNthiPF3dgZAow+kBbzMWzQIj0RqTjjhhAnHwVox0J5eG7e+Atrm7/ZbqUVgTeTRtSBrT8cwIsAFx8F35FA2PuOjevgWpD+64rDDDivgAlAAUIS9AQkRHGDD7wHcoq5om3SlCKjbY62DdbZ+IlgiItJLUkBJo+cAuQRmrb20FXkaVxpr4CAMt6iHgoEGG8ILUxkmL0RBhQIalsnQu7C6Db8sBG3z3GoyBhvY+BjeNlHaNiGDQNlBk0BIjH1Jz5hSEgCG6AOjYKNTRDzAWoh4fAw7hchz0Ya5MD4MOq9TH4yDw25upRz2xLixMyQ8Gt4vA0XRIECOAjJG1xgphoEn6+4SQCZ4sN766xXgYjPURGFTusbNU66VnnIAjgjMTAgvADFrMVfIOuMpTwPf8Za8+27teJK1DOAfGXbnCGUDBDMYypLNLh4CqYwUxa8PMmQfCW2rw9Brtx/xUoFZ3icQ014760p2gF4PDQMAGR8AQGSA9+tsT4Dluh97Q3rNIUiRKATk2KsLelGGtvH3O0MrpK68PuwL8sORUI8hxMM2mTNwwXM3py6g1K7ju31oLPZI6KIoR86163qb97x9Xr/xeriYfhljgEkqCQDqOoeBT9bYvuYIMN5k2hwBMCmlrvVyze221tNa4Q8HQH8OjIpcdkVpta0vf0JaukuEAZ+Mw1qINJj/XNpXsT5z4Z3OssZAM8A7znwea+CAgdD6qInB9holURg2LAUnDEq5BCiIfgiCzQggUG6hYCgdXoV6lDhPgEfBs2GkgY4gykkbvCxK2G+8K7eU8SycZeD9Cwkz6rxXygoACCKg2qZI6pBjgAZeL5DgYUAMgHkxGK5RSLwsJKzJwDFGDBtvzPgpbOvWBVYoIoYd/4WRu4zITDcMA8ZL503W84v5j+u79Jb19ArANYgXDDfwJf0VNKi8MvpgpL2iD9enqqeMA4TWlKyJbkTo3G9I1IKRsheAfmCE0SRDaKo+yD1Zqu9UmqpOAGsGL2iqOvaZvYF/gNewRMa9loXwHZjBPwDbHgAEjWHQeJVZ2IsEAQnkGtkzdMtU9UScyEfoI23RT4PqadfaSSXRK8aqnvEPqrcsPMk6kzkAUIpqcRa8xplWHefBzaWx2XCADmPMqxYlaRPD7HyDaALjazMiylb4GJrngTB2XspQ7gw9Un9JLzLBi6B4eH1xctzhRCfLAQLX5EydSxAN0G5sevWcqlfW+Q7KoW7bUxeBBB6J3/Qlj64s7zHAkDE5RGVMvDZCz2NksIP02fUa9vco510/QNO//tk7c/L3/pEi/MJf4zB3hmUuUvBtmLFHWe/ToenWY7CEqqUDpCzIUhC+C8HzpIFd3jWDg6KfKDvVe5SfznyGrWOcojM8OynH+nzAVOMaxe/2DzBFTwxrjM1NPXW82tGOQeNSz7pxUqYCKXU7+rR+9o/36axF3U5+Ho4D9pL0O/nksI27wzPWEYfhWD4+pYQQF/SMNC/cie+20QIoeGoMoPCy09I2Mw/fNXlQXgLifQEGAAFP3u88Dl7+kh54cObA78oJDfMkCJuogHfe3+KeV8V7qM8fEFBhSOcgeGm8SKFa5eU1pSgYXVERAIIgewFCL3zhCyeiJAw58ED5ARjOQ/CKIm8+qlXBJ3MCBryM/8yzziygSnhXeD7AjD6NiQEzvi176aCuUO6oxraytYPPTuI7G0A2RBJ4RnhO3oFiqQpeOWNFZvCfoRsXso8iFeTwX3uPjss4cxwrFwdEGjhoUhRxCH6cOZDAYYSrI/wul+t0uJC8cHBNQIMUhNwjb9hpcYaQ8nIbptPWoWQpXqfPGWVeHM+fMaS8F/XOfTDSogIocp4OW/H8ARdgAkkHSBuEx6B9YEF+GziIyIiDhACCVIN+2gQgMBLGhXx3nsJ4HPASbREt6cpFt9sa9rvxmAuDJNzKaJmHa0CYa+377+NwnHSJUHkNKobtN8v154B1dreG24BFp8g8WfOX/9w1EAAXsCBbkcbq3+Ly/UXo3XkBnnukUJbvCLK35MBkDtDF/sgbp9Oh1XGPNhh9AofJazijb5SRuxiE8Blxh6lqj0ZKgmcPELgXP4y7W+l4/WHcDcJnSlm6gWBJExAoBhHoEKkIYsQdvpJD5W0zqEKTPL+4CyXKqucWPdedBBc2RfoXIlO3ixhgACWAge8MuXy8eQBJfh8l4YGIAp76HCAgoiBATFzTL8ADOOGzOsaWNFoOAJ4AJJAIOJzae0YI2QNi3c3hzIB1ACDIVgDh0Y5i2Vuzj0T6nAsB4JOSAyuSAw70SvGSS3fOcHbmAiVwGOEqUZJyplIA7p4QEuURM24iCw418uyVWdBDl+G99xsCY6mMQ5BTEUDgTEQcXBxU3ngADODBHRwIKKlvBxtUP36T+5zu4VXGRD9SLAFCor2ud+DJaxgShXB+Awn31aBtmPpZZjgOWHcHGMm0ECvg6u6GAHeAgxeZVHacyLgAamkK405KDqxIDogmAw0ek76wdwjWHpoLtNpRPZoLA50rY2ToGSy3P8n38nqBhXPOOae8pAcYT5EDOfrl7ZFRnO7IcJbB2QepleUprIyJ6AZvD2gZVd947BkA8u9C0ELk42a05ooMDzNOvHWGxBkasmwtGWLr693vPo9qfYcZ0zBljA0Qd5/8XAgJDzOnLDN3OWB/cCRFp4dxpMZlpqv0wr6Tb7Qfl5HN4XEI9wuHenT0ttvesef97lGiDXEwEnBw7zaBWd5eD+AA5To3EE+wm8OsLkMPz9cBTUbBg3EYs6TkQHIgOZAcGD0HEjiMnqelRXcmSFeIMMinOlTGwEGYjLfzEADEivDIABtjmCpVMkusGXmzDpBKCwFE8uzt8yIj7zAbTA4kB5IDKzEHEjjM4uIzaIy0kOjyjizM4rTGrmkgCJ8BszzXMHbLkwNKDiQH5hkHEjjMswXN6SQHkgPJgeRAcmA2OZBPjpxN7mbbyYHkQHIgOZAcmGccSOAwzxY0p5McSA4kB5IDyYHZ5EACh9nkbradHEgOJAeSA8mBecaBBA7zbEFzOsmB5EByIDmQHJhNDiRwmE3uZtvJgeRAciA5kByYZxxI4DDPFjSnkxxIDiQHkgPJgdnkQAKH2eRutp0cSA4kB5IDyYF5xoEEDvNsQXM6yYHkQHIgOZAcmE0OJHCYTe5m28mB5EByIDmQHJhnHEjgMM8WNKeTHEgOJAeSA8mB2eRAAofZ5G62nRxIDiQHkgPJgXnGgQQO82xBczrJgeRAciA5kByYTQ4kcJhN7mbbyYHkQHIgOZAcmGcc+H9eLxSeHVv7BwAAAABJRU5ErkJggg==)\n"
      ]
    },
    {
      "cell_type": "code",
      "execution_count": 22,
      "metadata": {
        "id": "NRekfljHbCUe"
      },
      "outputs": [],
      "source": [
        "from torch import Tensor"
      ]
    },
    {
      "cell_type": "code",
      "execution_count": 23,
      "metadata": {
        "id": "_iL76bWR6dzJ"
      },
      "outputs": [],
      "source": [
        "class PositionalEncoding(nn.Module):\n",
        "\n",
        "    def __init__(self, emb_dim, seq_len):\n",
        "        super().__init__()\n",
        "\n",
        "        self.encoding = torch.zeros(seq_len, emb_dim)\n",
        "        self.encoding.requires_grad = False\n",
        "\n",
        "        pos = torch.arange(0,seq_len).float().unsqueeze(dim=1)\n",
        "        _2i = torch.arange(0,emb_dim,step=2).float()\n",
        "\n",
        "        # self.encoding = (sequence_length, hidden_size)\n",
        "        self.encoding[:, 0::2] = torch.sin(pos / (10000 ** (_2i/emb_dim)))\n",
        "        self.encoding[:, 1::2] = torch.cos(pos / (10000 ** (_2i/emb_dim)))\n",
        "\n",
        "    def forward(self, tensor):\n",
        "        batch_size, sequence_length = tensor.size()\n",
        "\n",
        "        # (sequence_length, hidden_size)\n",
        "        return self.encoding[:sequence_length, :]"
      ]
    },
    {
      "cell_type": "markdown",
      "metadata": {
        "id": "sVm3BprOuyfL"
      },
      "source": [
        "#- Self Attention"
      ]
    },
    {
      "cell_type": "code",
      "execution_count": 24,
      "metadata": {
        "id": "lN4xi6FMsxl4"
      },
      "outputs": [],
      "source": [
        "def self_attention(query, key, value, mask=None):\n",
        "  key_transpose = torch.transpose(key,-2,-1)\n",
        "  matmul_result = torch.matmul(query,key_transpose)\n",
        "  d_k = query.size()[-1]\n",
        "  attention_score = matmul_result/math.sqrt(d_k)\n",
        "\n",
        "  if mask is not None:\n",
        "    attention_score = attention_score.masked_fill(mask == 0, -1e20)\n",
        "\n",
        "  softmax_attention_score = F.softmax(attention_score,dim=-1)\n",
        "  result = torch.matmul(softmax_attention_score,value)\n",
        "\n",
        "  return result, softmax_attention_score\n",
        "\n",
        "\n",
        "\n",
        "class MultiHeadAttention(nn.Module):\n",
        "  def __init__(self, head_num , d_model, dropout = 0.1):\n",
        "    super(MultiHeadAttention,self).__init__()\n",
        "    assert d_model % head_num == 0\n",
        "\n",
        "    self.head_num = head_num\n",
        "    self.d_model = d_model\n",
        "    self.d_k = self.d_v = d_model // head_num\n",
        "\n",
        "    self.w_q = nn.Linear(d_model,d_model) # or self.w_q = nn.Linear(d_model, head_num * d_head)\n",
        "    self.w_k = nn.Linear(d_model,d_model)\n",
        "    self.w_v = nn.Linear(d_model,d_model)\n",
        "    self.w_o = nn.Linear(d_model,d_model)\n",
        "\n",
        "    self.self_attention = self_attention\n",
        "    self.dropout = nn.Dropout(p=dropout)\n",
        "\n",
        "  def forward(self, query, key, value, mask = None):\n",
        "    if mask is not None:\n",
        "      # Same mask applied to all h heads.\n",
        "      mask = mask.unsqueeze(1)\n",
        "\n",
        "    batche_num = query.size(0)\n",
        "\n",
        "    query = self.w_q(query).view(batche_num, -1, self.head_num, self.d_k).transpose(1, 2)\n",
        "    key = self.w_k(key).view(batche_num, -1, self.head_num, self.d_k).transpose(1, 2)\n",
        "    value = self.w_v(value).view(batche_num, -1, self.head_num, self.d_k).transpose(1, 2)\n",
        "\n",
        "    attention_result, attention_score = self.self_attention(query, key, value, mask)\n",
        "\n",
        "\n",
        "    attention_result = attention_result.transpose(1,2).contiguous().view(batche_num, -1, self.head_num * self.d_k)\n",
        "\n",
        "\n",
        "    return self.w_o(attention_result)"
      ]
    },
    {
      "cell_type": "markdown",
      "metadata": {
        "id": "qj1W60UXu5Of"
      },
      "source": [
        "#- FeedForward Network"
      ]
    },
    {
      "cell_type": "code",
      "execution_count": 25,
      "metadata": {
        "id": "-Sc5UXbMu3Qp"
      },
      "outputs": [],
      "source": [
        "class FeedForward(nn.Module):\n",
        "  def __init__(self,d_model, dropout = 0.1):\n",
        "    super(FeedForward,self).__init__()\n",
        "    self.w_1 = nn.Linear(d_model, d_model*4)\n",
        "    self.w_2 = nn.Linear(d_model*4, d_model)\n",
        "    self.dropout = nn.Dropout(p=dropout)\n",
        "\n",
        "  def forward(self, x):\n",
        "    return self.w_2(self.dropout(F.relu(self.w_1(x))))"
      ]
    },
    {
      "cell_type": "markdown",
      "metadata": {
        "id": "SkpD-I4Mu9g4"
      },
      "source": [
        "#- Encoder Layer"
      ]
    },
    {
      "cell_type": "code",
      "execution_count": 26,
      "metadata": {
        "id": "G151rl22s1lh"
      },
      "outputs": [],
      "source": [
        "class Encoder(nn.Module):\n",
        "  def __init__(self, d_model, head_num, dropout):\n",
        "    super(Encoder,self).__init__()\n",
        "    self.multi_head_attention = MultiHeadAttention(d_model= d_model, head_num = head_num)\n",
        "    self.layer_norm1 = nn.LayerNorm(d_model)\n",
        "\n",
        "    self.feed_forward = FeedForward(d_model)\n",
        "    self.layer_norm2 = nn.LayerNorm(d_model)\n",
        "\n",
        "  def forward(self, input, mask):\n",
        "    out = self.layer_norm1(input + self.multi_head_attention(input, input, input, mask))\n",
        "    out = self.layer_norm2(out + self.feed_forward(out))\n",
        "\n",
        "    return out\n",
        "\n",
        "\n",
        "class Decoder(nn.Module):\n",
        "  def __init__(self, d_model,head_num, dropout):\n",
        "    super(Decoder,self).__init__()\n",
        "    self.masked_multi_head_attention = MultiHeadAttention(d_model= d_model, head_num= head_num)\n",
        "    self.layer_norm1 = nn.LayerNorm(d_model)\n",
        "\n",
        "    self.encoder_decoder_attention = MultiHeadAttention(d_model= d_model, head_num= head_num)\n",
        "    self.layer_norm2 = nn.LayerNorm(d_model)\n",
        "\n",
        "    self.feed_forward= FeedForward(d_model)\n",
        "    self.layer_norm3 = nn.LayerNorm(d_model)\n",
        "\n",
        "\n",
        "  def forward(self, target, encoder_output, target_mask, encoder_mask):\n",
        "    # target, x, target_mask, input_mask\n",
        "    x = self.layer_norm1(target, lambda x: self.masked_multi_head_attention(x, x, x, target_mask))\n",
        "    x = self.layer_norm2(x, lambda x: self.encoder_decoder_attention(x, encoder_output, encoder_output, encoder_mask))\n",
        "    x = self.layer_norm3(x, self.feed_forward)\n",
        "\n",
        "    return x"
      ]
    },
    {
      "cell_type": "markdown",
      "metadata": {
        "id": "lZs0hpySzfzY"
      },
      "source": [
        "#- Model"
      ]
    },
    {
      "cell_type": "code",
      "execution_count": 27,
      "metadata": {
        "id": "a_8j8N4ks56a"
      },
      "outputs": [],
      "source": [
        "def clones(module, N):\n",
        "    return nn.ModuleList([copy.deepcopy(module) for _ in range(N)])\n",
        "\n",
        "\n",
        "class TransformerLM(nn.Module):\n",
        "  def __init__(self, vocab_size, dim,  depth, max_seq_len, head_num, dropout= 0.1):\n",
        "    super(TransformerLM,self).__init__()\n",
        "\n",
        "    self.token_emb= nn.Embedding(vocab_size, dim)\n",
        "    self.position_emb = PositionalEncoding(dim,max_seq_len)\n",
        "    self.encoders = clones(Encoder(d_model=dim, head_num=head_num, dropout=dropout), depth)\n",
        "    self.norm = nn.LayerNorm(dim)\n",
        "    self.lm_head = nn.Sequential(\n",
        "            nn.Linear(dim, dim),\n",
        "            nn.Linear(dim, vocab_size)\n",
        "            )\n",
        "  def subsequent_mask(self, size):\n",
        "    \"Mask out subsequent positions.\"\n",
        "    attn_shape = (1, size, size)\n",
        "    subsequent_mask = np.triu(np.ones(attn_shape), k=1).astype('uint8')\n",
        "    return torch.from_numpy(subsequent_mask) == 0\n",
        "\n",
        "  def forward(self, input_ids, input_mask = None):\n",
        "    if input_mask is None:\n",
        "       input_mask = self.subsequent_mask(max_seq_len).to(device)\n",
        "\n",
        "    x = self.token_emb(input_ids)\n",
        "    x = x + self.position_emb(input_ids).type_as(x)\n",
        "\n",
        "    for encoder in self.encoders:\n",
        "      x = encoder(x, input_mask)\n",
        "    x = self.norm(x)\n",
        "\n",
        "    return self.lm_head(x)"
      ]
    },
    {
      "cell_type": "markdown",
      "metadata": {
        "id": "IM12TJhevBIk"
      },
      "source": [
        "#- Dataset"
      ]
    },
    {
      "cell_type": "code",
      "execution_count": 28,
      "metadata": {
        "id": "Q3ZSU5fJDlR9"
      },
      "outputs": [],
      "source": [
        "class Dictionary(object):\n",
        "    def __init__(self):\n",
        "        self.word2idx = {}\n",
        "        self.idx2word = {}\n",
        "        self.idx = 0\n",
        "\n",
        "    def add_word(self, word):\n",
        "        if not word in self.word2idx:\n",
        "            self.word2idx[word] = self.idx\n",
        "            self.idx2word[self.idx] = word\n",
        "            self.idx += 1\n",
        "\n",
        "    def __len__(self):\n",
        "        return len(self.word2idx)\n",
        "\n",
        "\n",
        "class Corpus(object):\n",
        "    def __init__(self):\n",
        "        self.dictionary = Dictionary()\n",
        "\n",
        "    def get_data(self, path, batch_size=20):\n",
        "        # Add words to the dictionary\n",
        "        with open(path, 'r') as f:\n",
        "            tokens = 0\n",
        "            for line in f:\n",
        "                words = line.split() + ['<eos>']\n",
        "                tokens += len(words)\n",
        "                for word in words:\n",
        "                    self.dictionary.add_word(word)\n",
        "\n",
        "        # Tokenize the file content\n",
        "        ids = torch.LongTensor(tokens)\n",
        "        token = 0\n",
        "        with open(path, 'r') as f:\n",
        "            for line in f:\n",
        "                words = line.split() + ['<eos>']\n",
        "                for word in words:\n",
        "                    ids[token] = self.dictionary.word2idx[word]\n",
        "                    token += 1\n",
        "        num_batches = ids.size(0) // batch_size\n",
        "        ids = ids[:num_batches*batch_size]\n",
        "        return ids.view(batch_size, -1)"
      ]
    },
    {
      "cell_type": "markdown",
      "metadata": {
        "id": "4lEa6KsSvD0p"
      },
      "source": [
        "#- Hyper-Parameters Setting"
      ]
    },
    {
      "cell_type": "code",
      "execution_count": 29,
      "metadata": {
        "id": "_GYpLWVwvcnp"
      },
      "outputs": [],
      "source": [
        "import matplotlib.pyplot as plt"
      ]
    },
    {
      "cell_type": "code",
      "execution_count": 30,
      "metadata": {
        "id": "lP1ctaqZ6fPp"
      },
      "outputs": [],
      "source": [
        "# Hyper-parameters\n",
        "\n",
        "dim = 128\n",
        "depth = 1\n",
        "num_epochs = 5\n",
        "batch_size = 20\n",
        "max_seq_len = 15\n",
        "learning_rate = 0.002\n",
        "head_num = 8\n",
        "times = []\n",
        "\n",
        "sequence_lengths = [5, 10, 15, 20, 25, 30, 35, 40, 45, 50]\n"
      ]
    },
    {
      "cell_type": "markdown",
      "metadata": {
        "id": "SeazGCZRvFFb"
      },
      "source": [
        "#- Training & Evaluation"
      ]
    },
    {
      "cell_type": "code",
      "execution_count": 31,
      "metadata": {
        "colab": {
          "base_uri": "https://localhost:8080/",
          "height": 1000
        },
        "id": "OrbkWlLW558c",
        "outputId": "0b3e1422-04c1-4434-b204-c4de0493ae66"
      },
      "outputs": [
        {
          "output_type": "stream",
          "name": "stdout",
          "text": [
            "89\n",
            "65\n",
            "Epoch [1/5], Step[0/89], Loss: 7.6171, Perplexity: 2032.62\n",
            "Epoch [2/5], Step[0/89], Loss: 5.2684, Perplexity: 194.11\n",
            "Epoch [3/5], Step[0/89], Loss: 4.5805, Perplexity: 97.56\n",
            "Epoch [4/5], Step[0/89], Loss: 3.9207, Perplexity: 50.43\n",
            "Epoch [5/5], Step[0/89], Loss: 3.2103, Perplexity: 24.79\n",
            "Elapsed time: 9.19 seconds\n",
            "44\n",
            "32\n",
            "Epoch [1/5], Step[0/44], Loss: 7.6518, Perplexity: 2104.47\n",
            "Epoch [2/5], Step[0/44], Loss: 5.7145, Perplexity: 303.25\n",
            "Epoch [3/5], Step[0/44], Loss: 5.0832, Perplexity: 161.30\n",
            "Epoch [4/5], Step[0/44], Loss: 4.3491, Perplexity: 77.41\n",
            "Epoch [5/5], Step[0/44], Loss: 3.6467, Perplexity: 38.35\n",
            "Elapsed time: 6.07 seconds\n",
            "29\n",
            "21\n",
            "Epoch [1/5], Step[0/29], Loss: 7.6285, Perplexity: 2056.00\n",
            "Epoch [2/5], Step[0/29], Loss: 5.9173, Perplexity: 371.42\n",
            "Epoch [3/5], Step[0/29], Loss: 5.4281, Perplexity: 227.71\n",
            "Epoch [4/5], Step[0/29], Loss: 4.9115, Perplexity: 135.85\n",
            "Epoch [5/5], Step[0/29], Loss: 4.5570, Perplexity: 95.30\n",
            "Elapsed time: 4.90 seconds\n",
            "22\n",
            "16\n",
            "Epoch [1/5], Step[0/22], Loss: 7.6542, Perplexity: 2109.42\n",
            "Epoch [2/5], Step[0/22], Loss: 6.2878, Perplexity: 537.96\n",
            "Epoch [3/5], Step[0/22], Loss: 5.7985, Perplexity: 329.81\n",
            "Epoch [4/5], Step[0/22], Loss: 5.3056, Perplexity: 201.46\n",
            "Epoch [5/5], Step[0/22], Loss: 4.8059, Perplexity: 122.23\n",
            "Elapsed time: 5.79 seconds\n",
            "17\n",
            "13\n",
            "Epoch [1/5], Step[0/17], Loss: 7.6517, Perplexity: 2104.30\n",
            "Epoch [2/5], Step[0/17], Loss: 6.3071, Perplexity: 548.44\n",
            "Epoch [3/5], Step[0/17], Loss: 5.9171, Perplexity: 371.34\n",
            "Epoch [4/5], Step[0/17], Loss: 5.4438, Perplexity: 231.31\n",
            "Epoch [5/5], Step[0/17], Loss: 4.9580, Perplexity: 142.31\n",
            "Elapsed time: 4.16 seconds\n",
            "14\n",
            "10\n",
            "Epoch [1/5], Step[0/14], Loss: 7.6635, Perplexity: 2129.12\n",
            "Epoch [2/5], Step[0/14], Loss: 6.2765, Perplexity: 531.93\n",
            "Epoch [3/5], Step[0/14], Loss: 5.9836, Perplexity: 396.86\n",
            "Epoch [4/5], Step[0/14], Loss: 5.5590, Perplexity: 259.57\n",
            "Epoch [5/5], Step[0/14], Loss: 5.1055, Perplexity: 164.93\n",
            "Elapsed time: 4.00 seconds\n",
            "12\n",
            "9\n",
            "Epoch [1/5], Step[0/12], Loss: 7.6245, Perplexity: 2047.69\n",
            "Epoch [2/5], Step[0/12], Loss: 6.2456, Perplexity: 515.72\n",
            "Epoch [3/5], Step[0/12], Loss: 6.0705, Perplexity: 432.92\n",
            "Epoch [4/5], Step[0/12], Loss: 5.6950, Perplexity: 297.38\n",
            "Epoch [5/5], Step[0/12], Loss: 5.3454, Perplexity: 209.65\n",
            "Elapsed time: 5.18 seconds\n",
            "11\n",
            "8\n",
            "Epoch [1/5], Step[0/11], Loss: 7.6511, Perplexity: 2103.02\n",
            "Epoch [2/5], Step[0/11], Loss: 6.2259, Perplexity: 505.69\n",
            "Epoch [3/5], Step[0/11], Loss: 6.0618, Perplexity: 429.14\n",
            "Epoch [4/5], Step[0/11], Loss: 5.6753, Perplexity: 291.58\n",
            "Epoch [5/5], Step[0/11], Loss: 5.2594, Perplexity: 192.36\n",
            "Elapsed time: 3.96 seconds\n",
            "9\n",
            "7\n",
            "Epoch [1/5], Step[0/9], Loss: 7.6349, Perplexity: 2069.09\n",
            "Epoch [2/5], Step[0/9], Loss: 6.1281, Perplexity: 458.56\n",
            "Epoch [3/5], Step[0/9], Loss: 5.9823, Perplexity: 396.34\n",
            "Epoch [4/5], Step[0/9], Loss: 5.6868, Perplexity: 294.94\n",
            "Epoch [5/5], Step[0/9], Loss: 5.3019, Perplexity: 200.72\n",
            "Elapsed time: 3.75 seconds\n",
            "8\n",
            "6\n",
            "Epoch [1/5], Step[0/8], Loss: 7.6528, Perplexity: 2106.49\n",
            "Epoch [2/5], Step[0/8], Loss: 6.1629, Perplexity: 474.79\n",
            "Epoch [3/5], Step[0/8], Loss: 6.0431, Perplexity: 421.18\n",
            "Epoch [4/5], Step[0/8], Loss: 5.7667, Perplexity: 319.49\n",
            "Epoch [5/5], Step[0/8], Loss: 5.4592, Perplexity: 234.91\n",
            "Elapsed time: 5.11 seconds\n"
          ]
        },
        {
          "output_type": "display_data",
          "data": {
            "text/plain": [
              "<Figure size 640x480 with 1 Axes>"
            ],
            "image/png": "[encoded data removed]"
          },
          "metadata": {}
        }
      ],
      "source": [
        "# Train the model\n",
        "# for max_seq_len in sequence_lengths: # Iterates over different sequence lengths\n",
        "\n",
        "for max_seq_len in sequence_lengths:\n",
        "  corpus = Corpus()\n",
        "  ids = corpus.get_data('/content/drive/MyDrive/train.txt', batch_size)\n",
        "  vocab_size = len(corpus.dictionary)\n",
        "  num_batches = ids.size(1) // max_seq_len\n",
        "\n",
        "\n",
        "  test_corpus = Corpus()\n",
        "  test_ids = test_corpus.get_data('/content/drive/MyDrive/test.txt', batch_size)\n",
        "  test_vocab_size =  len(test_corpus.dictionary)\n",
        "  test_num_batches = test_ids.size(1) // max_seq_len\n",
        "\n",
        "\n",
        "  vocab_size = len(corpus.dictionary)\n",
        "\n",
        "\n",
        "  print(num_batches)\n",
        "  print(test_num_batches)\n",
        "  model = TransformerLM(vocab_size, dim, depth, max_seq_len, head_num, dropout= 0.1).to(device)\n",
        "  criterion = nn.CrossEntropyLoss()\n",
        "  optimizer = torch.optim.Adam(model.parameters(), lr=learning_rate)\n",
        "\n",
        "  start_time = time.time()\n",
        "  for epoch in range(num_epochs):\n",
        "\n",
        "      for i in range(0, ids.size(1) - max_seq_len, max_seq_len):\n",
        "          # Get mini-batch inputs and targets\n",
        "          inputs = ids[:, i:i+max_seq_len].to(device)\n",
        "          targets = ids[:, (i+1):(i+1)+max_seq_len].to(device)\n",
        "\n",
        "          # Forward pass\n",
        "          # Starting each batch, we detach the hidden state from how it was previously produced.\n",
        "          # If we didn't, the model would try backpropagating all the way to start of the dataset.\n",
        "\n",
        "          outputs = model(inputs)\n",
        "          output_flat = outputs.view(-1, vocab_size)\n",
        "\n",
        "          loss = criterion(output_flat, targets.reshape(-1))\n",
        "\n",
        "          # Backward and optimize\n",
        "          model.zero_grad()\n",
        "          loss.backward()\n",
        "          clip_grad_norm_(model.parameters(), 0.5)\n",
        "          optimizer.step()\n",
        "\n",
        "          step = (i+1) // max_seq_len\n",
        "          if step % 500 == 0:\n",
        "              print ('Epoch [{}/{}], Step[{}/{}], Loss: {:.4f}, Perplexity: {:5.2f}'\n",
        "                    .format(epoch+1, num_epochs, step, num_batches, loss.item(), np.exp(loss.item())))\n",
        "\n",
        "\n",
        "  elapsed_time = time.time() - start_time\n",
        "  times.append(elapsed_time)\n",
        "  print('Elapsed time: {:.2f} seconds'.format(elapsed_time))\n",
        "\n",
        "plt.plot(sequence_lengths, times, marker='*')\n",
        "plt.xlabel('Sequence Length')\n",
        "plt.ylabel('Time (s)')\n",
        "plt.title('Computation Time vs. Sequence Length')\n",
        "plt.show()"
      ]
    }
  ],
  "metadata": {
    "colab": {
      "provenance": [],
      "include_colab_link": true
    },
    "kernelspec": {
      "display_name": "Python 3",
      "name": "python3"
    },
    "language_info": {
      "name": "python"
    }
  },
  "nbformat": 4,
  "nbformat_minor": 0
}
